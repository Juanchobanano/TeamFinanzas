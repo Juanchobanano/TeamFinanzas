{
 "cells": [
  {
   "cell_type": "markdown",
   "metadata": {},
   "source": [
    "# CVX Portfolio Tutorial.\n",
    "\n",
    "---\n",
    "\n",
    "CVXPortfolio is a package for simulating and optimizing multi-period investment based on the framework outlined in the paper Multi-Period Trading via Convex Optimization.\n",
    "\n",
    "The simulator is able to simulate the evolution of a portfolio, taking into account asset returns, transaction costs, and holding costs. The package includes simple but reasonable models of transaction cost based on asset bid-ask spread, volume, and volatility.\n",
    "\n",
    "CVXPortfolio provides functionality for implementing trading strategies using the convex optimization package CVXPY.\n",
    "\n",
    "The package relies on Pandas for data handling (e.g., prices, returns, volumes). Our simple examples show how Quandl can be used to import open source financial data, but any other source can be used instead.\n",
    "\n",
    "CVXPortfolio is released under a permissive open source license. It includes basic functionality for simulation and simple or complex optimization based trading. Users can easily extend the package with additional trading strategies.\n",
    "\n",
    "CVXPortfolio was designed and implemented by Enzo Busseti and Steven Diamond, with input from Stephen Boyd and the authors of the paper.\n",
    "\n",
    "CVXPortfolio is not quite ready yet, but if you want to jump into the development branch feel free.\n",
    "\n",
    "Link: http://cvxportfolio.org/index.html"
   ]
  },
  {
   "cell_type": "markdown",
   "metadata": {},
   "source": [
    "## 1. Hello World."
   ]
  },
  {
   "cell_type": "code",
   "execution_count": 4,
   "metadata": {},
   "outputs": [],
   "source": [
    "import os\n",
    "import sys\n",
    "sys.path.insert(0, os.path.abspath(\"..\"))"
   ]
  },
  {
   "cell_type": "code",
   "execution_count": 8,
   "metadata": {},
   "outputs": [],
   "source": [
    "%matplotlib inline\n",
    "import numpy as np\n",
    "import pandas as pd\n",
    "import quandl\n",
    "import cvxportfolio as cp"
   ]
  },
  {
   "cell_type": "markdown",
   "metadata": {},
   "source": [
    "Download the problem data from Quandl. We select four liquid stocks, and the risk-free rate."
   ]
  },
  {
   "cell_type": "code",
   "execution_count": 9,
   "metadata": {},
   "outputs": [
    {
     "data": {
      "text/html": [
       "<div>\n",
       "<style scoped>\n",
       "    .dataframe tbody tr th:only-of-type {\n",
       "        vertical-align: middle;\n",
       "    }\n",
       "\n",
       "    .dataframe tbody tr th {\n",
       "        vertical-align: top;\n",
       "    }\n",
       "\n",
       "    .dataframe thead th {\n",
       "        text-align: right;\n",
       "    }\n",
       "</style>\n",
       "<table border=\"1\" class=\"dataframe\">\n",
       "  <thead>\n",
       "    <tr style=\"text-align: right;\">\n",
       "      <th></th>\n",
       "      <th>AMZN</th>\n",
       "      <th>GOOGL</th>\n",
       "      <th>TSLA</th>\n",
       "      <th>NKE</th>\n",
       "      <th>USDOLLAR</th>\n",
       "    </tr>\n",
       "    <tr>\n",
       "      <th>Date</th>\n",
       "      <th></th>\n",
       "      <th></th>\n",
       "      <th></th>\n",
       "      <th></th>\n",
       "      <th></th>\n",
       "    </tr>\n",
       "  </thead>\n",
       "  <tbody>\n",
       "    <tr>\n",
       "      <th>2016-12-23</th>\n",
       "      <td>-0.007503</td>\n",
       "      <td>-0.002322</td>\n",
       "      <td>0.023459</td>\n",
       "      <td>-0.004411</td>\n",
       "      <td>0.000020</td>\n",
       "    </tr>\n",
       "    <tr>\n",
       "      <th>2016-12-27</th>\n",
       "      <td>0.014213</td>\n",
       "      <td>0.002637</td>\n",
       "      <td>0.029015</td>\n",
       "      <td>-0.011944</td>\n",
       "      <td>0.000020</td>\n",
       "    </tr>\n",
       "    <tr>\n",
       "      <th>2016-12-28</th>\n",
       "      <td>0.000946</td>\n",
       "      <td>-0.006618</td>\n",
       "      <td>0.000957</td>\n",
       "      <td>-0.005264</td>\n",
       "      <td>0.000021</td>\n",
       "    </tr>\n",
       "    <tr>\n",
       "      <th>2016-12-29</th>\n",
       "      <td>-0.009040</td>\n",
       "      <td>-0.002101</td>\n",
       "      <td>-0.023027</td>\n",
       "      <td>0.000784</td>\n",
       "      <td>0.000018</td>\n",
       "    </tr>\n",
       "    <tr>\n",
       "      <th>2016-12-30</th>\n",
       "      <td>-0.019970</td>\n",
       "      <td>-0.012991</td>\n",
       "      <td>-0.004612</td>\n",
       "      <td>-0.004505</td>\n",
       "      <td>0.000020</td>\n",
       "    </tr>\n",
       "  </tbody>\n",
       "</table>\n",
       "</div>"
      ],
      "text/plain": [
       "                AMZN     GOOGL      TSLA       NKE  USDOLLAR\n",
       "Date                                                        \n",
       "2016-12-23 -0.007503 -0.002322  0.023459 -0.004411  0.000020\n",
       "2016-12-27  0.014213  0.002637  0.029015 -0.011944  0.000020\n",
       "2016-12-28  0.000946 -0.006618  0.000957 -0.005264  0.000021\n",
       "2016-12-29 -0.009040 -0.002101 -0.023027  0.000784  0.000018\n",
       "2016-12-30 -0.019970 -0.012991 -0.004612 -0.004505  0.000020"
      ]
     },
     "execution_count": 9,
     "metadata": {},
     "output_type": "execute_result"
    }
   ],
   "source": [
    "tickers = ['AMZN', 'GOOGL', 'TSLA', 'NKE']\n",
    "start_date='2012-01-01'\n",
    "end_date='2016-12-31'\n",
    "returns = pd.DataFrame(dict([(ticker, quandl.get('WIKI/'+ticker, \n",
    "                                    start_date=start_date, \n",
    "                                    end_date=end_date)['Adj. Close'].pct_change())\n",
    "                for ticker in tickers]))\n",
    "returns[[\"USDOLLAR\"]]=quandl.get('FRED/DTB3', start_date=start_date, end_date=end_date)/(250*100)\n",
    "returns = returns.fillna(method='ffill').iloc[1:]\n",
    "returns.tail()"
   ]
  },
  {
   "cell_type": "markdown",
   "metadata": {},
   "source": [
    "\n",
    "We compute rolling estimates of the first and second moments of the returns using a window of 250 days. We shift them by one unit (so at every day we present the optimizer with only past data)."
   ]
  },
  {
   "cell_type": "code",
   "execution_count": 10,
   "metadata": {},
   "outputs": [
    {
     "data": {
      "text/html": [
       "<div>\n",
       "<style scoped>\n",
       "    .dataframe tbody tr th:only-of-type {\n",
       "        vertical-align: middle;\n",
       "    }\n",
       "\n",
       "    .dataframe tbody tr th {\n",
       "        vertical-align: top;\n",
       "    }\n",
       "\n",
       "    .dataframe thead th {\n",
       "        text-align: right;\n",
       "    }\n",
       "</style>\n",
       "<table border=\"1\" class=\"dataframe\">\n",
       "  <thead>\n",
       "    <tr style=\"text-align: right;\">\n",
       "      <th></th>\n",
       "      <th>AMZN</th>\n",
       "      <th>GOOGL</th>\n",
       "      <th>TSLA</th>\n",
       "      <th>NKE</th>\n",
       "      <th>USDOLLAR</th>\n",
       "    </tr>\n",
       "    <tr>\n",
       "      <th>Date</th>\n",
       "      <th></th>\n",
       "      <th></th>\n",
       "      <th></th>\n",
       "      <th></th>\n",
       "      <th></th>\n",
       "    </tr>\n",
       "  </thead>\n",
       "  <tbody>\n",
       "    <tr>\n",
       "      <th>2016-12-23</th>\n",
       "      <td>0.000683</td>\n",
       "      <td>0.000219</td>\n",
       "      <td>-0.000074</td>\n",
       "      <td>-0.000660</td>\n",
       "      <td>0.000012</td>\n",
       "    </tr>\n",
       "    <tr>\n",
       "      <th>2016-12-27</th>\n",
       "      <td>0.000542</td>\n",
       "      <td>0.000150</td>\n",
       "      <td>-0.000124</td>\n",
       "      <td>-0.000706</td>\n",
       "      <td>0.000013</td>\n",
       "    </tr>\n",
       "    <tr>\n",
       "      <th>2016-12-28</th>\n",
       "      <td>0.000627</td>\n",
       "      <td>0.000179</td>\n",
       "      <td>-0.000023</td>\n",
       "      <td>-0.000691</td>\n",
       "      <td>0.000013</td>\n",
       "    </tr>\n",
       "    <tr>\n",
       "      <th>2016-12-29</th>\n",
       "      <td>0.000707</td>\n",
       "      <td>0.000215</td>\n",
       "      <td>-0.000052</td>\n",
       "      <td>-0.000664</td>\n",
       "      <td>0.000013</td>\n",
       "    </tr>\n",
       "    <tr>\n",
       "      <th>2016-12-30</th>\n",
       "      <td>0.000901</td>\n",
       "      <td>0.000302</td>\n",
       "      <td>0.000133</td>\n",
       "      <td>-0.000598</td>\n",
       "      <td>0.000013</td>\n",
       "    </tr>\n",
       "  </tbody>\n",
       "</table>\n",
       "</div>"
      ],
      "text/plain": [
       "                AMZN     GOOGL      TSLA       NKE  USDOLLAR\n",
       "Date                                                        \n",
       "2016-12-23  0.000683  0.000219 -0.000074 -0.000660  0.000012\n",
       "2016-12-27  0.000542  0.000150 -0.000124 -0.000706  0.000013\n",
       "2016-12-28  0.000627  0.000179 -0.000023 -0.000691  0.000013\n",
       "2016-12-29  0.000707  0.000215 -0.000052 -0.000664  0.000013\n",
       "2016-12-30  0.000901  0.000302  0.000133 -0.000598  0.000013"
      ]
     },
     "execution_count": 10,
     "metadata": {},
     "output_type": "execute_result"
    }
   ],
   "source": [
    "r_hat = returns.rolling(window=250, min_periods=250).mean().shift(1).dropna()\n",
    "Sigma_hat = returns.rolling(window=250, min_periods=250, closed='neither').cov().dropna()\n",
    "\n",
    "r_hat.tail()"
   ]
  },
  {
   "cell_type": "markdown",
   "metadata": {},
   "source": [
    "\n",
    "Here we define the transaction cost and holding cost model (sections 2.3 and 2.4 of the paper). The data can be expressed as: \n",
    "\n",
    "- a scalar (like we're doing here), the same value for all assets and all time periods;\n",
    "- a Pandas Series indexed by the asset names, for asset-specific values;\n",
    "- a Pandas DataFrame indexed by timestamps with asset names as columns, for values that vary by asset and in time."
   ]
  },
  {
   "cell_type": "code",
   "execution_count": 11,
   "metadata": {},
   "outputs": [
    {
     "name": "stderr",
     "output_type": "stream",
     "text": [
      "F:\\Users\\JuanCepeda\\Anaconda3\\lib\\site-packages\\cvxportfolio\\utils\\data_management.py:25: FutureWarning: The Panel class is removed from pandas. Accessing it from the top-level namespace will also be removed in the next version\n",
      "  if (isinstance(obj, pd.Panel) or\n"
     ]
    }
   ],
   "source": [
    "tcost_model=cp.TcostModel(half_spread=10E-4)\n",
    "hcost_model=cp.HcostModel(borrow_costs=1E-4)"
   ]
  },
  {
   "cell_type": "markdown",
   "metadata": {},
   "source": [
    "\n",
    "We define the single period optimization policy (section 4 of the paper)."
   ]
  },
  {
   "cell_type": "code",
   "execution_count": 12,
   "metadata": {},
   "outputs": [],
   "source": [
    "risk_model = cp.FullSigma(Sigma_hat)\n",
    "gamma_risk, gamma_trade, gamma_hold = 5., 1., 1.\n",
    "leverage_limit = cp.LeverageLimit(3)\n",
    "\n",
    "spo_policy = cp.SinglePeriodOpt(return_forecast=r_hat, \n",
    "                                costs=[gamma_risk*risk_model, gamma_trade*tcost_model, gamma_hold*hcost_model],\n",
    "                                constraints=[leverage_limit])"
   ]
  },
  {
   "cell_type": "markdown",
   "metadata": {},
   "source": [
    "\n",
    "We run a backtest, which returns a result object. By calling its summary method we get some basic statistics."
   ]
  },
  {
   "cell_type": "code",
   "execution_count": null,
   "metadata": {},
   "outputs": [],
   "source": [
    "market_sim=cp.MarketSimulator(returns, [tcost_model, hcost_model], cash_key='USDOLLAR') \n",
    "init_portfolio = pd.Series(index=returns.columns, data=250000.)\n",
    "init_portfolio.USDOLLAR = 0\n",
    "results = market_sim.run_multiple_backtest(init_portfolio,\n",
    "                               start_time='2013-01-03',  end_time='2016-12-31',  \n",
    "                               policies=[spo_policy, cp.Hold()])\n",
    "results[0].summary()"
   ]
  },
  {
   "cell_type": "code",
   "execution_count": null,
   "metadata": {},
   "outputs": [],
   "source": [
    "results[0].v.plot(figsize=(12,5))\n",
    "results[1].v.plot(figsize=(12,5))"
   ]
  }
 ],
 "metadata": {
  "kernelspec": {
   "display_name": "Python 3",
   "language": "python",
   "name": "python3"
  },
  "language_info": {
   "codemirror_mode": {
    "name": "ipython",
    "version": 3
   },
   "file_extension": ".py",
   "mimetype": "text/x-python",
   "name": "python",
   "nbconvert_exporter": "python",
   "pygments_lexer": "ipython3",
   "version": "3.7.3"
  }
 },
 "nbformat": 4,
 "nbformat_minor": 2
}
